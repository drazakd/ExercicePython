{
 "cells": [
  {
   "cell_type": "code",
   "execution_count": 1,
   "metadata": {},
   "outputs": [
    {
     "data": {
      "text/plain": [
       "2"
      ]
     },
     "execution_count": 1,
     "metadata": {},
     "output_type": "execute_result"
    }
   ],
   "source": [
    "# Exercice 1.1\n",
    "\n",
    "N = int(input('entrer nombre'))\n",
    "\n",
    "def factorielle(n):\n",
    "    s = 1\n",
    "    for i in range(1, n+1):\n",
    "        s = s * i\n",
    "    return s\n",
    "\n",
    "factorielle(N)"
   ]
  },
  {
   "cell_type": "code",
   "execution_count": 2,
   "metadata": {},
   "outputs": [],
   "source": [
    "# Exercice 1.2\n",
    "def classer(N):\n",
    "    impaire = []\n",
    "    while N>0:\n",
    "        N = N-1\n",
    "        if N % 2 == 1:\n",
    "            impaire.append(N)\n",
    "    print(impaire)\n",
    "    "
   ]
  },
  {
   "cell_type": "code",
   "execution_count": 3,
   "metadata": {},
   "outputs": [
    {
     "name": "stdout",
     "output_type": "stream",
     "text": [
      "[10, 17, 25, 38, 72]\n"
     ]
    }
   ],
   "source": [
    "# Exercice 1.3.1\n",
    "liste = [17, 38, 10, 25, 72]\n",
    "liste.sort()\n",
    "print(liste)"
   ]
  },
  {
   "cell_type": "code",
   "execution_count": 4,
   "metadata": {},
   "outputs": [
    {
     "name": "stdout",
     "output_type": "stream",
     "text": [
      "[10, 12, 17, 25, 38, 72]\n"
     ]
    }
   ],
   "source": [
    "#Exercice 1.3.2\n",
    "liste = [17, 38, 10, 25, 72]\n",
    "liste.append(12)\n",
    "liste.sort()\n",
    "print(liste)"
   ]
  },
  {
   "cell_type": "code",
   "execution_count": 5,
   "metadata": {},
   "outputs": [
    {
     "name": "stdout",
     "output_type": "stream",
     "text": [
      "[72, 25, 10, 38, 17]\n"
     ]
    }
   ],
   "source": [
    "#Exercice 1.3.3\n",
    "liste = [17, 38, 10, 25, 72]\n",
    "liste.reverse()\n",
    "print(liste)"
   ]
  },
  {
   "cell_type": "code",
   "execution_count": 6,
   "metadata": {},
   "outputs": [
    {
     "name": "stdout",
     "output_type": "stream",
     "text": [
      "5\n"
     ]
    }
   ],
   "source": [
    "#Exercice 1.3.4\n",
    "liste = [17, 38, 10, 25, 72]\n",
    "nbreelement =len(liste)\n",
    "print (nbreelement)"
   ]
  },
  {
   "cell_type": "code",
   "execution_count": 7,
   "metadata": {},
   "outputs": [
    {
     "name": "stdout",
     "output_type": "stream",
     "text": [
      "[17, 10, 25, 72]\n"
     ]
    }
   ],
   "source": [
    "#Exercice 1.3.5\n",
    "liste = [17, 38, 10, 25, 72]\n",
    "liste.remove(38)\n",
    "print (liste)"
   ]
  },
  {
   "cell_type": "code",
   "execution_count": 9,
   "metadata": {},
   "outputs": [
    {
     "name": "stdout",
     "output_type": "stream",
     "text": [
      "[38, 10]\n"
     ]
    }
   ],
   "source": [
    "#Exercice 1.3.6\n",
    "liste = [17, 38, 10, 25, 72]\n",
    "sousliste= liste[1:3]\n",
    "print(sousliste)"
   ]
  },
  {
   "cell_type": "code",
   "execution_count": 13,
   "metadata": {},
   "outputs": [
    {
     "name": "stdout",
     "output_type": "stream",
     "text": [
      "[17, 38, 10]\n"
     ]
    }
   ],
   "source": [
    "#Exercice 1.3.7\n",
    "liste = [17, 38, 10, 25, 72]\n",
    "print(liste[:3])"
   ]
  },
  {
   "cell_type": "code",
   "execution_count": 17,
   "metadata": {},
   "outputs": [
    {
     "name": "stdout",
     "output_type": "stream",
     "text": [
      "10\n"
     ]
    }
   ],
   "source": [
    "#Exercice 1.3.8\n",
    "liste = [17, 38, 10, 25, 72]\n",
    "print(liste[-3])"
   ]
  },
  {
   "cell_type": "code",
   "execution_count": 21,
   "metadata": {},
   "outputs": [
    {
     "data": {
      "text/plain": [
       "[1, 2, 4, 9, 5]"
      ]
     },
     "execution_count": 21,
     "metadata": {},
     "output_type": "execute_result"
    }
   ],
   "source": [
    "#Exercice 1.4\n",
    "def del_doublons(n):\n",
    "    doublons = []\n",
    "    for i in n:\n",
    "        if i in doublons:\n",
    "            pass\n",
    "        else:\n",
    "            doublons.append(i)\n",
    "    return doublons\n",
    "\n",
    "del_doublons(n= [1, 1, 2, 4, 9, 2, 5, 4])"
   ]
  }
 ],
 "metadata": {
  "kernelspec": {
   "display_name": "base",
   "language": "python",
   "name": "python3"
  },
  "language_info": {
   "codemirror_mode": {
    "name": "ipython",
    "version": 3
   },
   "file_extension": ".py",
   "mimetype": "text/x-python",
   "name": "python",
   "nbconvert_exporter": "python",
   "pygments_lexer": "ipython3",
   "version": "3.11.4"
  },
  "orig_nbformat": 4
 },
 "nbformat": 4,
 "nbformat_minor": 2
}
